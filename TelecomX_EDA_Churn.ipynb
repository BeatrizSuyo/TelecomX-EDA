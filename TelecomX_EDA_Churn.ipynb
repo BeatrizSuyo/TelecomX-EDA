{
  "cells": [
    {
      "cell_type": "markdown",
      "metadata": {},
      "source": [
        "# Telecom X - An\u00e1lisis de Evasi\u00f3n de Clientes\n",
        "Has sido contratado como asistente de an\u00e1lisis de datos en **Telecom X**. Este notebook contiene el An\u00e1lisis Exploratorio de Datos (EDA) para entender los factores que influyen en la cancelaci\u00f3n de clientes (`Churn`).\n",
        "\n",
        "\ud83d\udd0d **Objetivo**: Explorar y visualizar los datos para identificar patrones, tendencias y relaciones \u00fatiles para modelos predictivos y estrategias de retenci\u00f3n."
      ]
    },
    {
      "cell_type": "markdown",
      "metadata": {},
      "source": [
        "## 1. Carga de Librer\u00edas y Configuraci\u00f3n Inicial"
      ]
    },
    {
      "cell_type": "code",
      "execution_count": null,
      "metadata": {},
      "outputs": [],
      "source": [
        "import pandas as pd\n",
        "import seaborn as sns\n",
        "import matplotlib.pyplot as plt\n",
        "import requests\n",
        "sns.set(style=\"whitegrid\")"
      ]
    },
    {
      "cell_type": "markdown",
      "metadata": {},
      "source": [
        "## 2. Extracci\u00f3n de Datos desde API (JSON remoto)"
      ]
    },
    {
      "cell_type": "code",
      "execution_count": null,
      "metadata": {},
      "outputs": [],
      "source": [
        "# Descargar datos desde URL\n",
        "url = \"https://raw.githubusercontent.com/sthemonica/alura-voz/refs/heads/main/Dados/Telco-Customer-Churn.json\"\n",
        "response = requests.get(url)\n",
        "data = response.json()\n",
        "df = pd.json_normalize(data)"
      ]
    },
    {
      "cell_type": "markdown",
      "metadata": {},
      "source": [
        "## 3. Transformaci\u00f3n y Limpieza de Datos"
      ]
    },
    {
      "cell_type": "code",
      "execution_count": null,
      "metadata": {},
      "outputs": [],
      "source": [
        "df.dropna(how=\"any\", inplace=True)\n",
        "df.reset_index(drop=True, inplace=True)\n",
        "df['Churn'] = df['Churn'].fillna('No').replace('', 'No').str.strip()\n",
        "df['account.Contract'] = df['account.Contract'].str.strip()\n",
        "df['account.PaymentMethod'] = df['account.PaymentMethod'].str.strip()\n",
        "df['customer.gender'] = df['customer.gender'].str.strip()\n",
        "df['customer.tenure'] = pd.to_numeric(df['customer.tenure'], errors='coerce')\n",
        "df.dropna(subset=['customer.tenure'], inplace=True)"
      ]
    },
    {
      "cell_type": "markdown",
      "metadata": {},
      "source": [
        "## 4. Vista General de los Datos"
      ]
    },
    {
      "cell_type": "code",
      "execution_count": null,
      "metadata": {},
      "outputs": [],
      "source": [
        "df.info()\n",
        "df.head()"
      ]
    },
    {
      "cell_type": "markdown",
      "metadata": {},
      "source": [
        "## 5. An\u00e1lisis Exploratorio de Datos (EDA)"
      ]
    },
    {
      "cell_type": "markdown",
      "metadata": {},
      "source": [
        "### 5.1 Cancelaci\u00f3n por Tipo de Contrato"
      ]
    },
    {
      "cell_type": "code",
      "execution_count": null,
      "metadata": {},
      "outputs": [],
      "source": [
        "plt.figure(figsize=(10, 6))\n",
        "sns.countplot(data=df, x=\"account.Contract\", hue=\"Churn\", palette=\"Set2\")\n",
        "plt.title(\"Cancelaci\u00f3n por tipo de contrato\")\n",
        "plt.xlabel(\"Tipo de contrato\")\n",
        "plt.ylabel(\"Cantidad de clientes\")\n",
        "plt.xticks(rotation=15)\n",
        "plt.legend(title=\"\u00bfCancel\u00f3?\")\n",
        "plt.tight_layout()\n",
        "plt.show()"
      ]
    },
    {
      "cell_type": "markdown",
      "metadata": {},
      "source": [
        "### 5.2 Cancelaci\u00f3n por Forma de Pago"
      ]
    },
    {
      "cell_type": "code",
      "execution_count": null,
      "metadata": {},
      "outputs": [],
      "source": [
        "plt.figure(figsize=(12, 6))\n",
        "sns.countplot(data=df, x=\"account.PaymentMethod\", hue=\"Churn\", palette=\"Set2\")\n",
        "plt.title(\"Cancelaci\u00f3n por forma de pago\")\n",
        "plt.xlabel(\"Forma de pago\")\n",
        "plt.ylabel(\"Cantidad de clientes\")\n",
        "plt.xticks(rotation=45)\n",
        "plt.legend(title=\"\u00bfCancel\u00f3?\")\n",
        "plt.tight_layout()\n",
        "plt.show()"
      ]
    },
    {
      "cell_type": "markdown",
      "metadata": {},
      "source": [
        "### 5.3 Tiempo de Contrato y Cancelaci\u00f3n (Proporciones)"
      ]
    },
    {
      "cell_type": "code",
      "execution_count": null,
      "metadata": {},
      "outputs": [],
      "source": [
        "df['tenure_group'] = pd.cut(df['customer.tenure'], bins=10)\n",
        "tenure_df = df.groupby(['tenure_group', 'Churn']).size().reset_index(name='count')\n",
        "total_per_group = tenure_df.groupby('tenure_group')['count'].transform('sum')\n",
        "tenure_df['percentage'] = tenure_df['count'] / total_per_group * 100\n",
        "\n",
        "plt.figure(figsize=(12, 6))\n",
        "sns.barplot(data=tenure_df, x='tenure_group', y='percentage', hue='Churn', palette=\"Set2\")\n",
        "plt.title(\"Proporci\u00f3n de cancelaciones por tiempo de contrato\")\n",
        "plt.xlabel(\"Grupo de meses de contrato\")\n",
        "plt.ylabel(\"Porcentaje (%)\")\n",
        "plt.xticks(rotation=45)\n",
        "plt.legend(title=\"\u00bfCancel\u00f3?\")\n",
        "plt.tight_layout()\n",
        "plt.show()"
      ]
    },
    {
      "cell_type": "markdown",
      "metadata": {},
      "source": [
        "### 5.4 Cancelaci\u00f3n por G\u00e9nero (Proporciones)"
      ]
    },
    {
      "cell_type": "code",
      "execution_count": null,
      "metadata": {},
      "outputs": [],
      "source": [
        "gender_df = df.groupby(['customer.gender', 'Churn']).size().reset_index(name='count')\n",
        "total_gender = gender_df.groupby('customer.gender')['count'].transform('sum')\n",
        "gender_df['percentage'] = gender_df['count'] / total_gender * 100\n",
        "\n",
        "plt.figure(figsize=(8, 5))\n",
        "sns.barplot(data=gender_df, x='customer.gender', y='percentage', hue='Churn', palette=\"Set2\")\n",
        "plt.title(\"Proporci\u00f3n de cancelaci\u00f3n por g\u00e9nero\")\n",
        "plt.xlabel(\"G\u00e9nero\")\n",
        "plt.ylabel(\"Porcentaje (%)\")\n",
        "plt.legend(title=\"\u00bfCancel\u00f3?\")\n",
        "plt.tight_layout()\n",
        "plt.show()"
      ]
    },
    {
      "cell_type": "markdown",
      "metadata": {},
      "source": [
        "## 6. Conclusiones y Pr\u00f3ximos Pasos"
      ]
    },
    {
      "cell_type": "markdown",
      "metadata": {},
      "source": [
        "- Los contratos mensuales presentan una mayor tasa de cancelaci\u00f3n en comparaci\u00f3n con los contratos de mayor duraci\u00f3n.\n",
        "- Los m\u00e9todos de pago autom\u00e1ticos parecen estar asociados a menores tasas de cancelaci\u00f3n.\n",
        "- Los clientes con menos meses de permanencia tienen m\u00e1s probabilidad de cancelar.\n",
        "- No se observan diferencias significativas entre g\u00e9neros en cuanto a cancelaci\u00f3n.\n",
        "\n",
        "**Pr\u00f3ximos pasos sugeridos:**\n",
        "- Usar estas variables para entrenar un modelo de predicci\u00f3n de churn.\n",
        "- Dise\u00f1ar estrategias de fidelizaci\u00f3n seg\u00fan tipo de contrato o forma de pago.\n",
        "- Realizar an\u00e1lisis adicional incluyendo otras variables como servicios contratados, ingresos, etc."
      ]
    }
  ],
  "metadata": {
    "kernelspec": {
      "display_name": "Python 3",
      "language": "python",
      "name": "python3"
    },
    "language_info": {
      "name": "python",
      "version": "3.x"
    }
  },
  "nbformat": 4,
  "nbformat_minor": 2
}